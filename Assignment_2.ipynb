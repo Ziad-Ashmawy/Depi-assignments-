{
  "nbformat": 4,
  "nbformat_minor": 0,
  "metadata": {
    "colab": {
      "provenance": []
    },
    "kernelspec": {
      "name": "python3",
      "display_name": "Python 3"
    },
    "language_info": {
      "name": "python"
    }
  },
  "cells": [
    {
      "cell_type": "code",
      "execution_count": 1,
      "metadata": {
        "colab": {
          "base_uri": "https://localhost:8080/"
        },
        "id": "WFy-BNjLMUJR",
        "outputId": "93d7bca3-d7f5-44c7-ae75-8fbe55056e30"
      },
      "outputs": [
        {
          "output_type": "stream",
          "name": "stdout",
          "text": [
            "aaabbbccc\n"
          ]
        }
      ],
      "source": [
        "def rep_chars(s,n):\n",
        "    return ''.join ([char*n for char in s])\n",
        "\n",
        "s=\"abc\"\n",
        "n=3\n",
        "\n",
        "print (rep_chars(s,n))\n"
      ]
    },
    {
      "cell_type": "code",
      "source": [
        "def merge_arrays(array1,array2):\n",
        "    array3=array1+array2\n",
        "    array3.sort()\n",
        "    return array3\n",
        "\n",
        "array1=[3,1,4]\n",
        "array2=[2,5,0]\n",
        "array3=merge_arrays(array1,array2)\n",
        "\n",
        "for value in array3 :\n",
        "    print(value,end=\" \")\n",
        ""
      ],
      "metadata": {
        "colab": {
          "base_uri": "https://localhost:8080/"
        },
        "id": "tv6Yr249MY2e",
        "outputId": "e438a2a4-77fd-45c9-bc1e-06ba25b35f1a"
      },
      "execution_count": 2,
      "outputs": [
        {
          "output_type": "stream",
          "name": "stdout",
          "text": [
            "0 1 2 3 4 5 "
          ]
        }
      ]
    }
  ]
}